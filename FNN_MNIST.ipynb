{
 "cells": [
  {
   "cell_type": "code",
   "execution_count": 1,
   "id": "d2d34436",
   "metadata": {},
   "outputs": [],
   "source": [
    "import torch \n",
    "import torch.nn as nn\n",
    "import torch.nn.functional as F\n",
    "import torch.optim as optim\n",
    "from torchvision import datasets\n",
    "from torchvision.transforms import ToTensor\n",
    "from torch.utils.data import DataLoader"
   ]
  },
  {
   "cell_type": "code",
   "execution_count": 2,
   "id": "b0bcce0f",
   "metadata": {},
   "outputs": [],
   "source": [
    "import matplotlib.pyplot as plt"
   ]
  },
  {
   "cell_type": "code",
   "execution_count": 3,
   "id": "105d173c",
   "metadata": {},
   "outputs": [
    {
     "name": "stdout",
     "output_type": "stream",
     "text": [
      "cuda\n"
     ]
    }
   ],
   "source": [
    "device=torch.device(\"cuda\" if torch.cuda.is_available() else \"cpu\")\n",
    "print(device)"
   ]
  },
  {
   "cell_type": "code",
   "execution_count": 4,
   "id": "fd96a51a",
   "metadata": {},
   "outputs": [],
   "source": [
    "TrainData=datasets.MNIST(\n",
    "    root='data',\n",
    "    train=True,\n",
    "    transform=ToTensor(),\n",
    "    download=True\n",
    ")\n",
    "TestData=datasets.MNIST(\n",
    "    root='data',\n",
    "    train=False,\n",
    "    transform=ToTensor(),\n",
    "    download=True\n",
    ")"
   ]
  },
  {
   "cell_type": "code",
   "execution_count": 5,
   "id": "32b85380",
   "metadata": {},
   "outputs": [
    {
     "name": "stdout",
     "output_type": "stream",
     "text": [
      "Train Data: \n",
      " Shape: torch.Size([60000, 28, 28]) \n",
      " Test data \n",
      " Shape:  torch.Size([10000, 28, 28])\n"
     ]
    }
   ],
   "source": [
    "print(\"Train Data: \\n Shape:\",TrainData.data.shape,\"\\n Test data \\n Shape: \",TestData.data.size())"
   ]
  },
  {
   "cell_type": "code",
   "execution_count": 6,
   "id": "e96b9324",
   "metadata": {
    "scrolled": true
   },
   "outputs": [
    {
     "name": "stdout",
     "output_type": "stream",
     "text": [
      "<torch.utils.data.dataloader.DataLoader object at 0x7ff72f9456c0>\n",
      "<torch.utils.data.dataloader.DataLoader object at 0x7ff72f946140>\n"
     ]
    }
   ],
   "source": [
    "#Importing DataLoaders\n",
    "TrainLoader=DataLoader(TrainData,batch_size=128,shuffle=True,num_workers=1)\n",
    "TestLoader=DataLoader(TestData, batch_size=128,shuffle=True,num_workers=1)\n",
    "\n",
    "print(TrainLoader)\n",
    "print(TestLoader)"
   ]
  },
  {
   "cell_type": "code",
   "execution_count": 7,
   "id": "e493bb75",
   "metadata": {},
   "outputs": [],
   "source": [
    "class FNN(nn.Module):\n",
    "    def __init__(self):\n",
    "        super(FNN, self).__init__()\n",
    "        self.fc1=nn.Linear(28 * 28,256)\n",
    "        self.batch_norm1=nn.BatchNorm1d(256)\n",
    "        self.dropout1=nn.Dropout(0.3)\n",
    "        self.fc2=nn.Linear(256,64)\n",
    "        self.batch_norm2=nn.BatchNorm1d(64)\n",
    "        self.dropout2=nn.Dropout(0.3)\n",
    "        self.fc3=nn.Linear(64,10)  #10 because there are 10 outputs (0-9).\n",
    "        self.relu=nn.ReLU()\n",
    "    def forward(self, var_x):\n",
    "        var_x = var_x.view(-1, 28 * 28)\n",
    "        #For the first layer\n",
    "        var_x = self.fc1(var_x)\n",
    "        var_x = self.relu(var_x)\n",
    "        var_x = self.batch_norm1(var_x)\n",
    "        var_x = self.dropout1(var_x)\n",
    "        #Now for the second layer\n",
    "        var_x = self.fc2(var_x)\n",
    "        var_x = self.relu(var_x)\n",
    "        var_x = self.batch_norm2(var_x)\n",
    "        var_x = self.dropout2(var_x)\n",
    "        \n",
    "        #Output Layer\n",
    "        var_x = self.fc3(var_x)\n",
    "        return var_x"
   ]
  },
  {
   "cell_type": "code",
   "execution_count": 8,
   "id": "40df8f76",
   "metadata": {
    "scrolled": true
   },
   "outputs": [
    {
     "name": "stdout",
     "output_type": "stream",
     "text": [
      "Epoch [1/11], Training Loss: 0.8206, Testing Loss: 0.3609\n",
      "Epoch [2/11], Training Loss: 0.3555, Testing Loss: 0.2141\n",
      "Epoch [3/11], Training Loss: 0.2419, Testing Loss: 0.1545\n",
      "Epoch [4/11], Training Loss: 0.1827, Testing Loss: 0.1196\n",
      "Epoch [5/11], Training Loss: 0.1520, Testing Loss: 0.1003\n",
      "Epoch [6/11], Training Loss: 0.1281, Testing Loss: 0.0909\n",
      "Epoch [7/11], Training Loss: 0.1091, Testing Loss: 0.0836\n",
      "Epoch [8/11], Training Loss: 0.0981, Testing Loss: 0.0753\n",
      "Epoch [9/11], Training Loss: 0.0872, Testing Loss: 0.0740\n",
      "Epoch [10/11], Training Loss: 0.0774, Testing Loss: 0.0699\n",
      "Epoch [11/11], Training Loss: 0.0734, Testing Loss: 0.0699\n"
     ]
    }
   ],
   "source": [
    "LearningRate = 0.0001\n",
    "BatchSize = 128\n",
    "Epochs = 11\n",
    "Model = FNN().to(device)\n",
    "Criterion = nn.CrossEntropyLoss()\n",
    "Optimizer = optim.Adam(Model.parameters(), lr=LearningRate)\n",
    "TrainLosses = []\n",
    "TestLosses = []\n",
    "\n",
    "# Training Data\n",
    "for epoch in range(Epochs):\n",
    "    Model.train()\n",
    "    epoch_train_loss = 0  # Variable to accumulate training loss for the epoch\n",
    "    for images, labels in TrainLoader:\n",
    "        images, labels = images.to(device), labels.to(device)\n",
    "        Optimizer.zero_grad()\n",
    "        Outputs = Model(images)\n",
    "        Loss = Criterion(Outputs, labels)\n",
    "        Loss.backward()\n",
    "        Optimizer.step()\n",
    "        \n",
    "        epoch_train_loss += Loss.item()\n",
    "    \n",
    "    # Average training loss for the epoch\n",
    "    avg_train_loss = epoch_train_loss / len(TrainLoader)\n",
    "    TrainLosses.append(avg_train_loss)\n",
    "\n",
    "    # Testing Data\n",
    "    Model.eval()\n",
    "    TestLoss = 0\n",
    "    with torch.no_grad():\n",
    "        for image, label in TestLoader:\n",
    "            image, label = image.to(device), label.to(device)\n",
    "            test_outputs = Model(image)\n",
    "            Loss = Criterion(test_outputs, label)\n",
    "            TestLoss += Loss.item()\n",
    "    \n",
    "    TestLoss /= len(TestLoader)\n",
    "    TestLosses.append(TestLoss)\n",
    "    \n",
    "    # Print average losses for the epoch\n",
    "    print(f'Epoch [{epoch + 1}/{Epochs}], Training Loss: {avg_train_loss:.4f}, Testing Loss: {TestLoss:.4f}')\n"
   ]
  },
  {
   "cell_type": "code",
   "execution_count": 15,
   "id": "89545b6d",
   "metadata": {
    "scrolled": false
   },
   "outputs": [
    {
     "data": {
      "image/png": "[encoded data removed]",
      "text/plain": [
       "<Figure size 1000x500 with 1 Axes>"
      ]
     },
     "metadata": {},
     "output_type": "display_data"
    }
   ],
   "source": [
    "# Plotting the graphs\n",
    "# (i) Training Loss vs Training Iterations\n",
    "# (ii) Testing Loss vs Training Iterations\n",
    "plt.figure(figsize=(10,5))\n",
    "plt.plot(range(1,Epochs+1),TrainLosses, label='Training Loss')\n",
    "plt.plot(range(1,Epochs+1), TestLosses, label='Testing Loss', marker='o')\n",
    "plt.title('Training and Testing Loss vs Training Iterations')\n",
    "plt.xlabel('Training Iterations')\n",
    "plt.xticks(ticks=range(1,Epochs+1))\n",
    "plt.ylabel('Loss')\n",
    "plt.legend()\n",
    "# plt.grid()\n",
    "plt.show()"
   ]
  }
 ],
 "metadata": {
  "kernelspec": {
   "display_name": "conda_pytorch_p310",
   "language": "python",
   "name": "conda_pytorch_p310"
  },
  "language_info": {
   "codemirror_mode": {
    "name": "ipython",
    "version": 3
   },
   "file_extension": ".py",
   "mimetype": "text/x-python",
   "name": "python",
   "nbconvert_exporter": "python",
   "pygments_lexer": "ipython3",
   "version": "3.10.14"
  }
 },
 "nbformat": 4,
 "nbformat_minor": 5
}
